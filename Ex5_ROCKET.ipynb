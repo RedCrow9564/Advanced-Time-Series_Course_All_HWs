{
  "nbformat": 4,
  "nbformat_minor": 0,
  "metadata": {
    "colab": {
      "name": "Ex5 ROCKET-Elad_Eatah.ipynb",
      "provenance": [],
      "collapsed_sections": [],
      "toc_visible": true
    },
    "kernelspec": {
      "display_name": "Python 3",
      "language": "python",
      "name": "python3"
    },
    "language_info": {
      "codemirror_mode": {
        "name": "ipython",
        "version": 3
      },
      "file_extension": ".py",
      "mimetype": "text/x-python",
      "name": "python",
      "nbconvert_exporter": "python",
      "pygments_lexer": "ipython3",
      "version": "3.8.8"
    }
  },
  "cells": [
    {
      "cell_type": "markdown",
      "metadata": {
        "id": "oolnfp8c1XYg"
      },
      "source": [
        "# Imports"
      ]
    },
    {
      "cell_type": "code",
      "metadata": {
        "id": "8OJLISU41OLY"
      },
      "source": [
        "from typing import List\n",
        "import numpy as np\n",
        "from sklearn.linear_model import LogisticRegression\n",
        "from sklearn.preprocessing import scale\n",
        "from sklearn.metrics import confusion_matrix\n",
        "import pandas as pd\n",
        "import matplotlib.pyplot as plt"
      ],
      "execution_count": null,
      "outputs": []
    },
    {
      "cell_type": "markdown",
      "metadata": {
        "id": "VDvR43K01hB4"
      },
      "source": [
        "#ROCKET components"
      ]
    },
    {
      "cell_type": "markdown",
      "metadata": {
        "id": "-i3da_dK1kAE"
      },
      "source": [
        "## 1D Convolution"
      ]
    },
    {
      "cell_type": "markdown",
      "metadata": {
        "id": "-V7vI16gDXHP"
      },
      "source": [
        "This method is obviously not as optimized as the paper's code (no Numba compilation is performed here). For further tuning, one may implement it in Cython (or even in C) or compile it using Numba."
      ]
    },
    {
      "cell_type": "code",
      "metadata": {
        "id": "J0mq4ehk1guR"
      },
      "source": [
        "def conv_1D_kernel(input_sequence: int, weights: List[float], stride: int, dilation: int, padding: int) -> List[float]:\n",
        "    sequences_count: int = input_sequence.shape[0]\n",
        "    input_seq_len: int = input_sequence.shape[1]\n",
        "    kernel_len: int = len(weights)\n",
        "    output_len: int = int((input_seq_len + 2 * padding - dilation * (kernel_len - 1) - 1) // stride) + 1\n",
        "    last_sequence_index: int = int((input_seq_len + padding - dilation * (kernel_len - 1) - 1) // stride) + 1\n",
        "    indices_shift: int = output_len - last_sequence_index\n",
        "    output_seq: List[float] = np.zeros((sequences_count, output_len), dtype=np.float64)\n",
        "\n",
        "    for i in range(-indices_shift, last_sequence_index):\n",
        "\n",
        "        index = i\n",
        "\n",
        "        for specific_weight in weights:\n",
        "\n",
        "            # If the end of the input sequence was reached, the computation is complete.\n",
        "            if index >= input_seq_len:\n",
        "                break\n",
        "\n",
        "            # If there is a padding, the computation should first skip the first zero terms.\n",
        "            elif index >= 0:\n",
        "                output_seq[:, i + indices_shift] += specific_weight * input_sequence[:, index]\n",
        "            index += dilation\n",
        "\n",
        "    return output_seq"
      ],
      "execution_count": null,
      "outputs": []
    },
    {
      "cell_type": "markdown",
      "metadata": {
        "id": "joyuD2mK1owv"
      },
      "source": [
        "## ROCKET Method"
      ]
    },
    {
      "cell_type": "code",
      "metadata": {
        "id": "cB6YEjqG1Vtt"
      },
      "source": [
        "class ROCKET():\n",
        "    def __init__(self, kernels_num: int, input_length: int):\n",
        "        self._kernels_num: int = kernels_num  # K - number of conv kernels\n",
        "        self._input_length: int = input_length\n",
        "\n",
        "        self._kernel_lengths: List[int] = list()\n",
        "        self._biases: List[float] = list()\n",
        "        self._dilations: List[int] = list()\n",
        "        self._use_paddings: List[bool] = list()\n",
        "        self._weights: List[float] = list()\n",
        "\n",
        "    def fit(self, seed: int = 1995) -> None:\n",
        "        \"\"\"\n",
        "        Generating the random parameters of all the convolution kernels\n",
        "        (not actual fitting to some given data...)\n",
        "        \"\"\"\n",
        "\n",
        "        rng = np.random.default_rng(seed)\n",
        "        self._kernel_lengths = rng.choice([7, 9, 11], self._kernels_num)\n",
        "        self._biases = rng.uniform(-1, 1, self._kernels_num)\n",
        "        self._use_paddings = rng.integers(2, size=self._kernels_num) > 0\n",
        "        self._weights = rng.normal(size=int(np.sum(self._kernel_lengths)))\n",
        "        dilations_exponents = np.log2((self._input_length - 1) / (self._kernel_lengths - 1))\n",
        "        self._dilations = np.power(2, rng.uniform(0, dilations_exponents)).astype(np.int32)\n",
        "\n",
        "\n",
        "    def apply(self, input_data):\n",
        "        \"\"\"\n",
        "        Generates the features-map for each sample in the input data.\n",
        "\n",
        "        Args:\n",
        "            input_data - an array of float64 with dimensions [N, input_len]\n",
        "\n",
        "        Returns:\n",
        "            An array of float64 with dimensions [N, 2*K]\n",
        "        \"\"\"\n",
        "        first_weight_index: int = 0\n",
        "        last_weight_index: int = 0\n",
        "        stride: int = 1  # Const\n",
        "        features_map = np.empty((input_data.shape[0], 2*self._kernels_num))\n",
        "\n",
        "        for kernel_ind, (kernel_length, bias, use_padding, dilation) in enumerate(zip(\n",
        "            self._kernel_lengths, self._biases, self._use_paddings, self._dilations)):\n",
        "\n",
        "            padding_len = 0 \n",
        "            if use_padding:\n",
        "                padding_len = int((kernel_length - 1) * dilation / 2)\n",
        "            last_weight_index += kernel_length\n",
        "            kernel_weights = self._weights[first_weight_index:last_weight_index]\n",
        "            kernel_weights -= kernel_weights.mean()\n",
        "                \n",
        "            # Performing the convolution and extracting the max and PPV features.\n",
        "            conv_output = conv_1D_kernel(input_data, kernel_weights, stride, dilation, padding_len)\n",
        "            features_map[:, 2*kernel_ind] = conv_output.max(axis=1) + bias\n",
        "            features_map[:, 2*kernel_ind + 1] = \\\n",
        "                np.count_nonzero(conv_output + bias > 0) / len(conv_output)\n",
        "            \n",
        "            first_weight_index = last_weight_index\n",
        "\n",
        "        return features_map"
      ],
      "execution_count": null,
      "outputs": []
    },
    {
      "cell_type": "markdown",
      "metadata": {
        "id": "xXgPIZ8h19Db"
      },
      "source": [
        "## Logistic Regression + ROCKET"
      ]
    },
    {
      "cell_type": "code",
      "metadata": {
        "id": "A6gxAyy12CjB"
      },
      "source": [
        "class RocketLogisticRegression():\n",
        "    def __init__(self, kernels_num: int, input_length: int, max_iter: int = 100,\n",
        "                 seed: int = 1995, regularization: str = 'none'):\n",
        "        self._rocket = ROCKET(kernels_num, input_length)\n",
        "        self._rocket.fit(seed)\n",
        "        self._model = LogisticRegression(penalty=regularization, \n",
        "                                         max_iter=max_iter)\n",
        "        \n",
        "    def fit(self, X, y):\n",
        "        # Scaling the input sequences to have 0 mean and 1 std,\n",
        "        # and then performing the features-transform.\n",
        "        transformed_X = self._rocket.apply(scale(X, axis=1))\n",
        "        self._model.fit(transformed_X, y)\n",
        "        \n",
        "    def predict(self, X):      \n",
        "        # Scaling the input sequences to have 0 mean and 1 std,\n",
        "        # and then performing the features-transform.\n",
        "        transformed_X = self._rocket.apply(scale(X, axis=1))\n",
        "        return self._model.predict(transformed_X)\n",
        "    \n",
        "    def score(self, X, y):      \n",
        "        # Scaling the input sequences to have 0 mean and 1 std,\n",
        "        # and then performing the features-transform.\n",
        "        transformed_X = self._rocket.apply(scale(X, axis=1))\n",
        "        return self._model.score(transformed_X, y)"
      ],
      "execution_count": null,
      "outputs": []
    },
    {
      "cell_type": "markdown",
      "metadata": {
        "id": "Cwh7ikPV2tn6"
      },
      "source": [
        "# Experiment on Real Data"
      ]
    },
    {
      "cell_type": "markdown",
      "metadata": {
        "id": "kGxFVLf120pn"
      },
      "source": [
        "The used dataset is taken from [here](http://timeseriesclassification.com/description.php?Dataset=ECG5000). This is a dataset of ECG signals of length 140, which are classified into 5 different classes.\n",
        "The best accuracy (according to the link) on this dataset was achieved by COTE, which is **94.61%**."
      ]
    },
    {
      "cell_type": "markdown",
      "metadata": {
        "id": "D7vIVq7M3Ydr"
      },
      "source": [
        "Train set size: **500**, Test set size: **4500** (yes, it is **9** times bigger than the train set)"
      ]
    },
    {
      "cell_type": "code",
      "metadata": {
        "colab": {
          "base_uri": "https://localhost:8080/"
        },
        "id": "lb3idV1f3yqx",
        "outputId": "34cca825-b53e-4f0f-ff76-918e0d8d8fc5"
      },
      "source": [
        "classes_num: int = 5\n",
        "train_set = pd.read_csv('ECG5000_TRAIN.txt', header=None, sep='  ')\n",
        "train_y = train_set[0].to_numpy()\n",
        "train_X = train_set.drop(train_set.columns[[0]], axis=1).to_numpy()\n",
        "\n",
        "test_set = pd.read_csv('ECG5000_TEST.txt', header=None, sep='  ')\n",
        "test_y = test_set[0].to_numpy()\n",
        "test_X = test_set.drop(test_set.columns[[0]], axis=1).to_numpy()"
      ],
      "execution_count": null,
      "outputs": [
        {
          "output_type": "stream",
          "text": [
            "/usr/local/lib/python3.7/dist-packages/ipykernel_launcher.py:2: ParserWarning: Falling back to the 'python' engine because the 'c' engine does not support regex separators (separators > 1 char and different from '\\s+' are interpreted as regex); you can avoid this warning by specifying engine='python'.\n",
            "  \n",
            "/usr/local/lib/python3.7/dist-packages/ipykernel_launcher.py:6: ParserWarning: Falling back to the 'python' engine because the 'c' engine does not support regex separators (separators > 1 char and different from '\\s+' are interpreted as regex); you can avoid this warning by specifying engine='python'.\n",
            "  \n"
          ],
          "name": "stderr"
        }
      ]
    },
    {
      "cell_type": "code",
      "metadata": {
        "colab": {
          "base_uri": "https://localhost:8080/",
          "height": 297
        },
        "id": "BwBIicwI5Fq5",
        "outputId": "36231845-7313-4428-847b-02bde3168a32"
      },
      "source": [
        "fig, axs = plt.subplots(1, 2, sharey=True, tight_layout=True)\n",
        "axs[0].hist(train_y, bins=classes_num)\n",
        "axs[0].set_title('Train classifications histogram')\n",
        "axs[1].hist(test_y, bins=classes_num)\n",
        "axs[1].set_title('Test classifications histogram')\n",
        "plt.show()"
      ],
      "execution_count": null,
      "outputs": [
        {
          "output_type": "display_data",
          "data": {
            "image/png": "[encoded data removed]",
            "text/plain": [
              "<Figure size 432x288 with 2 Axes>"
            ]
          },
          "metadata": {
            "tags": [],
            "needs_background": "light"
          }
        }
      ]
    },
    {
      "cell_type": "markdown",
      "metadata": {
        "id": "GUjp-AZF6eQH"
      },
      "source": [
        "Both the train set and the test set consist of mostly sequences of classes **1** and **2**. \n",
        "This makes this dataset quiet skewed..."
      ]
    },
    {
      "cell_type": "code",
      "metadata": {
        "cellView": "form",
        "colab": {
          "base_uri": "https://localhost:8080/"
        },
        "id": "sLvQ4Df54R-a",
        "outputId": "cc987f61-2565-47a0-beef-ef317f8f48e0"
      },
      "source": [
        "#@title **Applying ROCKET+LogisticRegression**\n",
        "kernels_num = 1000 #@param {type:\"integer\"}\n",
        "max_iterations = 100 #@param {type:\"integer\"}\n",
        "regularizer = \"none\" #@param [\"none\", \"l2\"]\n",
        "seed = 1995 #@param {type:\"integer\"}\n",
        "model = RocketLogisticRegression(kernels_num, train_X.shape[1], \n",
        "                                 max_iter=max_iterations, seed=seed,\n",
        "                                 regularization=regularizer)\n",
        "model.fit(train_X, train_y)\n",
        "train_pred = model.predict(train_X)\n",
        "print(f'Train accuracy: {model.score(train_X, train_pred)}')\n",
        "test_pred = model.predict(test_X)\n",
        "print(f'Test accuracy: {model.score(test_X, test_y)}')\n",
        "print(f'Confusion matrix:\\n {confusion_matrix(test_y, predictions)}')"
      ],
      "execution_count": null,
      "outputs": [
        {
          "output_type": "stream",
          "text": [
            "/usr/local/lib/python3.7/dist-packages/sklearn/linear_model/_logistic.py:940: ConvergenceWarning: lbfgs failed to converge (status=1):\n",
            "STOP: TOTAL NO. of ITERATIONS REACHED LIMIT.\n",
            "\n",
            "Increase the number of iterations (max_iter) or scale the data as shown in:\n",
            "    https://scikit-learn.org/stable/modules/preprocessing.html\n",
            "Please also refer to the documentation for alternative solver options:\n",
            "    https://scikit-learn.org/stable/modules/linear_model.html#logistic-regression\n",
            "  extra_warning_msg=_LOGISTIC_SOLVER_CONVERGENCE_MSG)\n"
          ],
          "name": "stderr"
        },
        {
          "output_type": "stream",
          "text": [
            "Train accuracy: 1.0\n",
            "Test accuracy: 0.9382222222222222\n",
            "Confusion matrix:\n",
            " [[2607    3    9    8    0]\n",
            " [   8 1512   25   43    2]\n",
            " [  15   24   37    7    3]\n",
            " [  14   92    5   64    0]\n",
            " [   7    8    3    2    2]]\n"
          ],
          "name": "stdout"
        }
      ]
    },
    {
      "cell_type": "markdown",
      "metadata": {
        "id": "v9x6VJ_3Bml4"
      },
      "source": [
        "The optimization reaches a 100% accuracy on the train set very quickly, while its test accuracy is **93.8** when using 1,000 convolution kernels.\n",
        "This is almost as good as the SOTA accuracy of COTE, but the total run-time is much shorter!\n",
        "(though most of these results are probably because of the skewness of the dataset...)"
      ]
    }
  ]
}